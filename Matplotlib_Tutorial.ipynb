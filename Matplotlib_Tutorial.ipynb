{
 "cells": [
  {
   "cell_type": "markdown",
   "id": "0629d688-ebb4-4f02-8602-8b1b8acef69b",
   "metadata": {
    "pycharm": {
     "name": "#%% md\n"
    }
   },
   "source": [
    "# Matplotlib 拓展包教学（Matplotlib Extension Package Tutorial）\n",
    "参考：</br>\n",
    "https://matplotlib.org/stable/users/index.html</br>\n",
    "Python Data Science Handbook"
   ]
  },
  {
   "cell_type": "markdown",
   "source": [
    "## 前置要求\n",
    "\n",
    "拥有 Python 环境（版本>2.7）</br>Numpy 拓展包"
   ],
   "metadata": {
    "collapsed": false,
    "pycharm": {
     "name": "#%% md\n"
    }
   }
  },
  {
   "cell_type": "markdown",
   "source": [
    "## 安装Matplotlib\n",
    "\n",
    "### 1. pip\n",
    "\n",
    "在控制台输入：\n",
    "```\n",
    "!pip install matplotlib\n",
    "```\n",
    "或者\n",
    "```\n",
    "!python -m pip install -U matplotlib\n",
    "```\n",
    "！当（ Mac ）系统内有多个 Python 版本，Python 3.X 版本的 pip 为 pip3。<br><br>\n",
    "\n",
    "### 2. conda\n",
    "\n",
    "如果系统内的 Python 环境是使用 Conda 进行安装的,在控制台 (cmd/Terminal/iTerm) 输入：\n",
    "```\n",
    "!conda install matplotlip\n",
    "```\n",
    "或者\n",
    "```\n",
    "!conda install -c conda-forge matplotlib\n",
    "```\n",
    "！如果出现 SSL 问题，打开根目录下的配置文件 `.condarc` , 修改：\n",
    "```\n",
    "ssl_verify: false\n",
    "```\n",
    "如果还是出现问题最终解决方案为翻墙，如果还是不行请使用其余方法。<br><br>\n",
    "\n",
    "### 3. Anaconda\n",
    "\n",
    "使用Anaconda进行环境和拓展包管理：</br>\n",
    "下载地址：https://www.anaconda.com/products/distribution<br><br>\n",
    "\n",
    "### 4. git\n",
    "\n",
    "作为最后的选择，可以通过 git 直接 clone 源文件进行安装：\n",
    "```\n",
    "!git clone https://github.com/matplotlib/matplotlib.git\n",
    "```\n",
    "或者\n",
    "```\n",
    "!git clone git@github.com:matplotlib/matplotlib.git\n",
    "```\n",
    "之后输入：\n",
    "```\n",
    "!cd matplotlib\n",
    "!python -m pip install .\n",
    "```\n",
    "然后安装其他依赖文件：\n",
    "```\n",
    "!python -m pip install -r requirements/dev/dev-requirements.txt\n",
    "```"
   ],
   "metadata": {
    "collapsed": false,
    "pycharm": {
     "name": "#%% md\n"
    }
   },
   "outputs": []
  },
  {
   "cell_type": "markdown",
   "id": "849b963a-5d55-40b3-93c6-eed6b810f317",
   "metadata": {
    "pycharm": {
     "name": "#%% md\n"
    }
   },
   "source": [
    "## 导入拓展包\n",
    "\n",
    "因为我们的课程是基于 Python，所以我们需要使用 Matplotlib 下面的 Pyplot 子拓展包。"
   ]
  },
  {
   "cell_type": "code",
   "execution_count": null,
   "id": "4a229bc8-cd24-47f6-ab1b-e202438ea16e",
   "metadata": {
    "pycharm": {
     "is_executing": true,
     "name": "#%%\n"
    }
   },
   "outputs": [],
   "source": [
    "import matplotlib as mpl\n",
    "import matplotlib.pyplot as plt\n",
    "plt.style.use('default')"
   ]
  },
  {
   "cell_type": "markdown",
   "id": "d534ef12-9912-4d2d-b2e5-9faeda951efc",
   "metadata": {
    "pycharm": {
     "name": "#%% md\n"
    }
   },
   "source": [
    "然后我们可以检查 Matplotlib 的版本："
   ]
  },
  {
   "cell_type": "code",
   "execution_count": null,
   "id": "1449ad00-b71a-4760-b82e-14903529d0f0",
   "metadata": {
    "pycharm": {
     "is_executing": true,
     "name": "#%%\n"
    }
   },
   "outputs": [],
   "source": [
    "print(mpl.__version__)"
   ]
  },
  {
   "cell_type": "markdown",
   "id": "5c829cf0-a14d-40de-8e4e-99e13e51e40a",
   "metadata": {
    "pycharm": {
     "name": "#%% md\n"
    }
   },
   "source": [
    "我们还需要导入 Numpy 作为我们操作数据的工具："
   ]
  },
  {
   "cell_type": "code",
   "execution_count": null,
   "id": "426d4dab-94db-47ae-812b-8e992e8f85bb",
   "metadata": {
    "pycharm": {
     "is_executing": true,
     "name": "#%%\n"
    }
   },
   "outputs": [],
   "source": [
    "import numpy as np\n",
    "print(np.__version__)"
   ]
  },
  {
   "cell_type": "markdown",
   "id": "944106fa-d218-4686-b301-5b1326fd7bc4",
   "metadata": {
    "pycharm": {
     "name": "#%% md\n"
    }
   },
   "source": [
    "Matplotlib 作为画图工具，可以直接在屏幕上显示图表，也可以输出图标到指定位置。为了使画出来的图表处在 Jupyter Notebook 的行文内，我们需要修改："
   ]
  },
  {
   "cell_type": "code",
   "execution_count": null,
   "id": "2897f75c-2f85-4937-8a1a-1623bf7d39dc",
   "metadata": {
    "pycharm": {
     "is_executing": true,
     "name": "#%%\n"
    }
   },
   "outputs": [],
   "source": [
    "%matplotlib inline"
   ]
  },
  {
   "cell_type": "markdown",
   "id": "52c292ad-d6b3-4c16-9d5a-c817d84e422a",
   "metadata": {
    "pycharm": {
     "name": "#%% md\n"
    }
   },
   "source": [
    "根据个人需求可以修改默认字体大小："
   ],
   "outputs": []
  },
  {
   "cell_type": "code",
   "execution_count": null,
   "outputs": [],
   "source": [
    "mpl.rcParams.update({'font.size': 16})"
   ],
   "metadata": {
    "collapsed": false,
    "pycharm": {
     "name": "#%%\n"
    }
   }
  },
  {
   "cell_type": "markdown",
   "id": "8410467a-5d00-4727-a43b-ac6172d86562",
   "metadata": {
    "pycharm": {
     "name": "#%% md\n"
    }
   },
   "source": [
    "默认设置下， Matplotlib 并不支持中文显示，所以我们需要从本地系统库中调用中文字体："
   ]
  },
  {
   "cell_type": "code",
   "execution_count": null,
   "id": "6b29cb36-e8fc-4398-90b7-41a5ed199c95",
   "metadata": {
    "pycharm": {
     "is_executing": true,
     "name": "#%%\n"
    }
   },
   "outputs": [],
   "source": [
    "import os\n",
    "from matplotlib.font_manager import FontProperties\n",
    "abspath = os.path.abspath(os.sep)\n",
    "font_set = FontProperties(fname = abspath+'/Library/Fonts/思源黑体SourceHanSansCN-Regular.otf', size = 15)#这里的路径换成本地的ttf/otf文件"
   ]
  },
  {
   "cell_type": "markdown",
   "id": "3490caa0-26ea-4dad-9d28-1fc0cd69b138",
   "metadata": {
    "pycharm": {
     "name": "#%% md\n"
    }
   },
   "source": [
    "## 绘制简单折线图 (Line plots)\n",
    "\n",
    "在小学大家都学过连点成线，折线图作为最简单直观的视觉化图表也是同理。\n",
    "假设有公司A和公司B在某个季度内月销售额如下：<br><br>\n",
    "\n",
    "|  月份 | $A$/M¥ |\n",
    "|----:|-------:|\n",
    "|   1 |     20 |\n",
    "|   2 |     50 |\n",
    "|   3 |     15 |\n",
    "|   4 |     66 |\n",
    "<br>\n",
    "我们可以绘制月销售额在y-轴和月份在x-轴，展示销售额每月的变化。\n",
    "首先创建两个list分别存储两个数据集："
   ]
  },
  {
   "cell_type": "code",
   "execution_count": null,
   "id": "41093beb-0193-49ca-a8b2-0db1d1c2a566",
   "metadata": {
    "pycharm": {
     "is_executing": true,
     "name": "#%%\n"
    }
   },
   "outputs": [],
   "source": [
    "A =[20, 50, 15, 66]\n",
    "M = [1, 2, 3, 4]"
   ]
  },
  {
   "cell_type": "markdown",
   "id": "872e3d5f-0f21-4429-95ad-7700ed275264",
   "metadata": {
    "pycharm": {
     "name": "#%% md\n"
    }
   },
   "source": [
    "然后我们使用 plt.plot 函数来绘制图表："
   ]
  },
  {
   "cell_type": "code",
   "execution_count": null,
   "id": "200666c9-97ab-4a6d-b5c3-4ef9c7757106",
   "metadata": {
    "pycharm": {
     "is_executing": true,
     "name": "#%%\n"
    }
   },
   "outputs": [],
   "source": [
    "plt.plot(M, A)  # plot(x, y)\n",
    "plt.show()"
   ]
  },
  {
   "cell_type": "markdown",
   "id": "189b9255-8cc1-4410-a8ff-0b078e8f7b05",
   "metadata": {
    "pycharm": {
     "name": "#%% md\n"
    }
   },
   "source": [
    "但是这样的图表显然过于简洁了，对读者也不是十分友好，于是我们可以添加以下细节来丰富我们的图表："
   ]
  },
  {
   "cell_type": "markdown",
   "id": "2f07d8ff-81e6-48da-bcd3-31eb8eda7614",
   "metadata": {
    "pycharm": {
     "name": "#%% md\n"
    }
   },
   "source": [
    "### 画布\n",
    "\n",
    "在 Matplotlib 里面，所以的图表都是绘制在一个画布上 (figure) ：\n"
   ]
  },
  {
   "cell_type": "code",
   "execution_count": null,
   "id": "fe14c76f-cd09-448c-8490-e002e0108c54",
   "metadata": {
    "pycharm": {
     "is_executing": true,
     "name": "#%%\n"
    }
   },
   "outputs": [],
   "source": [
    "fig = plt.figure()\n",
    "ax = plt.axes()"
   ]
  },
  {
   "cell_type": "markdown",
   "id": "d5ab5dd0-e7d5-4750-9449-7cee9569fec3",
   "metadata": {
    "pycharm": {
     "name": "#%% md\n"
    }
   },
   "source": [
    "有了画布，我们还可以改变它的大小："
   ]
  },
  {
   "cell_type": "code",
   "execution_count": null,
   "id": "6d0eec75-60df-4ba7-837c-397162b5642c",
   "metadata": {
    "pycharm": {
     "is_executing": true,
     "name": "#%%\n"
    }
   },
   "outputs": [],
   "source": [
    "fig = plt.figure(figsize = (3,3))\n",
    "ax = plt.axes()"
   ]
  },
  {
   "cell_type": "markdown",
   "id": "8aee12df-00dc-4482-815a-49b5aaa21094",
   "metadata": {
    "pycharm": {
     "name": "#%% md\n"
    }
   },
   "source": [
    "其实从上面的内容我们不难看出 Matplotlib 支持两个创建画布的方式"
   ],
   "outputs": []
  },
  {
   "cell_type": "markdown",
   "source": [
    "#### 1. plt.plot()\n",
    "\n",
    "当我们只需要绘制一个图像，比如第一个例子，我们就可以通过 `plt.plot()`\n",
    "直接在后台创建画布和坐标系。此时，如果我们想要绘制多条线只需要重复使用 `plt.plot()` 就可以了："
   ],
   "metadata": {
    "collapsed": false,
    "pycharm": {
     "name": "#%% md\n"
    }
   }
  },
  {
   "cell_type": "code",
   "execution_count": null,
   "id": "4ebb8a5d-5c9e-47df-8c6e-bdd01dbc1801",
   "metadata": {
    "pycharm": {
     "is_executing": true,
     "name": "#%%\n"
    }
   },
   "outputs": [],
   "source": [
    "x = np.linspace(0, 10, 1000)\n",
    "plt.plot(x, np.sin(x))\n",
    "plt.plot(x, np.cos(x))\n",
    "plt.show()"
   ]
  },
  {
   "cell_type": "markdown",
   "id": "567903d3-ce12-4d2f-8cbf-625c629940af",
   "metadata": {
    "pycharm": {
     "name": "#%% md\n"
    }
   },
   "source": [
    "#### 2. plt.subplot()\n",
    "\n",
    "我们还可以通过手动创建画布的方法更灵活的创建图表，这也允许我们创建多个图表在同一个画布中。方法一是使用 `plt.subplot()` ，方法二是使用 `plt.subplots()` :"
   ]
  },
  {
   "cell_type": "code",
   "execution_count": 1,
   "id": "c8f5c34c-1ef2-4427-a9b1-a61292103d4d",
   "metadata": {
    "pycharm": {
     "name": "#%%\n"
    }
   },
   "outputs": [
    {
     "ename": "NameError",
     "evalue": "name 'plt' is not defined",
     "output_type": "error",
     "traceback": [
      "\u001B[1;31m---------------------------------------------------------------------------\u001B[0m",
      "\u001B[1;31mNameError\u001B[0m                                 Traceback (most recent call last)",
      "Input \u001B[1;32mIn [1]\u001B[0m, in \u001B[0;36m<cell line: 1>\u001B[1;34m()\u001B[0m\n\u001B[1;32m----> 1\u001B[0m fig \u001B[38;5;241m=\u001B[39m \u001B[43mplt\u001B[49m\u001B[38;5;241m.\u001B[39mfigure(figsize \u001B[38;5;241m=\u001B[39m (\u001B[38;5;241m9\u001B[39m,\u001B[38;5;241m3\u001B[39m))\n\u001B[0;32m      2\u001B[0m plt\u001B[38;5;241m.\u001B[39msubplot(\u001B[38;5;241m131\u001B[39m)  \u001B[38;5;66;03m# 1是行数，3是列数，第二个1是目标区域。\u001B[39;00m\n\u001B[0;32m      3\u001B[0m plt\u001B[38;5;241m.\u001B[39mplot(x, np\u001B[38;5;241m.\u001B[39msin(x))\n",
      "\u001B[1;31mNameError\u001B[0m: name 'plt' is not defined"
     ]
    }
   ],
   "source": [
    "fig = plt.figure(figsize = (9,3))\n",
    "plt.subplot(131)  # 1是行数，3是列数，第二个1是目标区域。\n",
    "plt.plot(x, np.sin(x))\n",
    "plt.subplot(132)\n",
    "plt.plot(x, np.cos(x))\n",
    "plt.subplot(133)\n",
    "plt.plot(x, np.tan(x))\n",
    "plt.show()"
   ]
  },
  {
   "cell_type": "code",
   "execution_count": null,
   "id": "52570bdc-b107-41aa-ba3c-f99af0a5d6e9",
   "metadata": {
    "pycharm": {
     "is_executing": true,
     "name": "#%%\n"
    }
   },
   "outputs": [],
   "source": [
    "fig = plt.figure(figsize = (9,3))\n",
    "ax = fig.subplots(1, 3)\n",
    "# 注意，这里是 fig.subplots ,因为 fig 已经在上一行创建了。\n",
    "# 如果省略创建 fig ，命令行为：fig, ax = plt.subplots(1, 3)\n",
    "ax[0].plot(x, np.sin(x))\n",
    "ax[1].plot(x, np.cos(x))\n",
    "ax[2].plot(x, np.tan(x))\n",
    "plt.show()"
   ]
  },
  {
   "cell_type": "markdown",
   "id": "811a1eee-9c14-42c1-9f86-b5a338124ef1",
   "metadata": {
    "pycharm": {
     "name": "#%% md\n"
    },
    "tags": []
   },
   "source": [
    "### 网格\n",
    "现在这个画布的背景太单一了，我们可以添加网格来辅助读者确定数值："
   ]
  },
  {
   "cell_type": "code",
   "execution_count": null,
   "id": "80f7e392-cfdc-440f-a336-c83444c88686",
   "metadata": {
    "pycharm": {
     "is_executing": true,
     "name": "#%%\n"
    }
   },
   "outputs": [],
   "source": [
    "plt.style.use('seaborn-whitegrid')\n",
    "plt.figure(figsize = (5,5))\n",
    "plt.plot(M, A)\n",
    "plt.show()"
   ]
  },
  {
   "cell_type": "markdown",
   "id": "b9cd0a85-a426-4b11-8aab-2ec073378228",
   "metadata": {
    "pycharm": {
     "name": "#%% md\n"
    }
   },
   "source": [
    "### 颜色和数据样式\n",
    "平常我们看到的折线图有着丰富的样式和颜色，Matplotlib 提供各种标记样式和颜色选择。我们可以通过以下方式更改线的颜色："
   ]
  },
  {
   "cell_type": "code",
   "execution_count": null,
   "id": "e7045008-fd2c-475f-b15a-045924d07308",
   "metadata": {
    "pycharm": {
     "is_executing": true,
     "name": "#%%\n"
    }
   },
   "outputs": [],
   "source": [
    "plt.plot(x, np.sin(x - 0), color='blue')        # 用名称选择颜色\n",
    "plt.plot(x, np.sin(x - 1), color='g')           # 用短名称选择颜色（rgbcmyk）\n",
    "plt.plot(x, np.sin(x - 2), color='0.75')        # 设定灰度\n",
    "plt.plot(x, np.sin(x - 3), color='#FFDD44')     # Hex 代码\n",
    "plt.plot(x, np.sin(x - 4), color=(1.0,0.2,0.3)) # RGB 元组\n",
    "plt.plot(x, np.sin(x - 5), color='chartreuse') # 用HTML名称选择颜色\n",
    "plt.show()"
   ]
  },
  {
   "cell_type": "markdown",
   "id": "7d6cb484-463e-4308-993f-549db9c341c3",
   "metadata": {
    "pycharm": {
     "name": "#%% md\n"
    }
   },
   "source": [
    "标记有以下选项：('o', 'v', '^', '<', '>', '8', 's', 'p', '*', 'h', 'H', 'D', 'd', 'P', 'X', 'x')"
   ]
  },
  {
   "cell_type": "code",
   "execution_count": null,
   "id": "69158d11-fb5c-40b1-a1b2-c02d0ca4fe48",
   "metadata": {
    "pycharm": {
     "is_executing": true,
     "name": "#%%\n"
    }
   },
   "outputs": [],
   "source": [
    "plt.figure(figsize = (5,5))\n",
    "plt.plot(M, A, marker = 'x', color = 'r')\n",
    "plt.show()"
   ]
  },
  {
   "cell_type": "markdown",
   "id": "ccf9401f-c946-4b31-bda3-47c0ca75cb81",
   "metadata": {
    "pycharm": {
     "name": "#%% md\n"
    }
   },
   "source": [
    "不止标记的样式，线的样式也可以选择：\n",
    "> ' '　->　什么都不画\n",
    "> '-'　->　实线\n",
    "> '--'　->　划线 (dash)\n",
    "> '-.'　->　点划结合\n",
    "> ':'　->　点线 (dot)"
   ]
  },
  {
   "cell_type": "code",
   "execution_count": null,
   "id": "e6146dac-daf0-4a7e-ad37-04722ee7a69b",
   "metadata": {
    "pycharm": {
     "is_executing": true,
     "name": "#%%\n"
    }
   },
   "outputs": [],
   "source": [
    "plt.figure(figsize = (5,5))\n",
    "plt.plot(M, A, marker = 'x', color = 'r', linestyle = '-.')\n",
    "plt.show()"
   ]
  },
  {
   "cell_type": "markdown",
   "id": "bc97164c-fec0-4040-86c6-7e9746a727de",
   "metadata": {
    "pycharm": {
     "name": "#%% md\n"
    }
   },
   "source": [
    "Matplotlib 还提供一种简介的命令行绘制简单折线图："
   ]
  },
  {
   "cell_type": "code",
   "execution_count": null,
   "id": "a1c81600-bea3-45f1-96e7-4031511da69b",
   "metadata": {
    "pycharm": {
     "is_executing": true,
     "name": "#%%\n"
    }
   },
   "outputs": [],
   "source": [
    "plt.plot(M, A, '-.xr')# -.xr 是 linestyle, marker & color 的结合\n",
    "plt.show()"
   ]
  },
  {
   "cell_type": "markdown",
   "id": "fbce8516-a134-4ecb-9920-afcbf22532c4",
   "metadata": {
    "pycharm": {
     "name": "#%% md\n"
    }
   },
   "source": [
    "### 添加更多信息\n",
    "除了比例尺和线的样式，坐标系的名称和图表标题也是必要的："
   ]
  },
  {
   "cell_type": "code",
   "execution_count": null,
   "id": "2a992f67-2f3a-4521-a752-52486a0b989c",
   "metadata": {
    "pycharm": {
     "is_executing": true,
     "name": "#%%\n"
    }
   },
   "outputs": [],
   "source": [
    "plt.plot(M, A, '-.xr')\n",
    "plt.title(\"公司A季度1\", fontproperties = font_set)\n",
    "plt.xlabel(\"月份\", fontproperties = font_set)\n",
    "plt.ylabel(\"月销售额\", fontproperties = font_set)\n",
    "plt.show()"
   ]
  },
  {
   "cell_type": "markdown",
   "id": "53dd6fa0-0dec-4ec2-82b3-06523ad406e4",
   "metadata": {
    "pycharm": {
     "name": "#%% md\n"
    }
   },
   "source": [
    "在图表有很多线条的时候，为了分清出线条，我们可以使用图例。这里只展示最基本的用法："
   ]
  },
  {
   "cell_type": "code",
   "execution_count": null,
   "id": "2158f9d7-4193-4ee1-8d29-839375fd28fe",
   "metadata": {
    "pycharm": {
     "is_executing": true,
     "name": "#%%\n"
    }
   },
   "outputs": [],
   "source": [
    "plt.plot(M, A, '-.xr', label = \"Company A\")\n",
    "plt.title(\"公司A季度1\", fontproperties = font_set)\n",
    "plt.xlabel(\"月份\", fontproperties = font_set)\n",
    "plt.ylabel(\"月销售额\", fontproperties = font_set)\n",
    "plt.ylim(0, 80)#更改x轴的范围\n",
    "plt.legend()\n",
    "plt.show()"
   ]
  },
  {
   "cell_type": "markdown",
   "id": "f92bdf1e-f6b6-4b6a-b0b0-1d3e35019f64",
   "metadata": {
    "pycharm": {
     "name": "#%% md\n"
    }
   },
   "source": [
    "更多关于 legend 用法请参考：https://matplotlib.org/stable/tutorials/intermediate/legend_guide.html#legend-handlers"
   ]
  },
  {
   "cell_type": "markdown",
   "id": "7834abc8-5876-400d-89b7-ce5b500803db",
   "metadata": {
    "pycharm": {
     "name": "#%% md\n"
    }
   },
   "source": [
    "## 练习[1]\n",
    "现在我们有一个公司B在与公司A同一季度内的月销量如下：<br><br>\n",
    "\n",
    "|  月份 | $B$/M¥ |\n",
    "|----:|-------:|\n",
    "|   1 |     70 |\n",
    "|   2 |     40 |\n",
    "|   3 |     80 |\n",
    "|   4 |     54 |\n",
    "<br>\n",
    "我们现在要分别绘制公司A和公司B在这一季度内的月销量。要求公司A的图表在公司B的图表上方；图表大小要合适；添加适当的标题和坐标系名称；使用不同的 marker style 和 line style；两个图表的坐标系范围要合适且一样。[14]"
   ]
  },
  {
   "cell_type": "code",
   "execution_count": 2,
   "id": "86397267-719d-4af1-8ec6-fd5c5abf3423",
   "metadata": {
    "pycharm": {
     "name": "#%%\n"
    }
   },
   "outputs": [],
   "source": [
    "# 请在这里答题"
   ]
  },
  {
   "cell_type": "markdown",
   "id": "f6ea6199-dadf-4728-a369-4dd85dbc7010",
   "metadata": {
    "pycharm": {
     "name": "#%% md\n"
    },
    "tags": []
   },
   "source": [
    "## 绘制简单点状图（ Scatter plots ）\n",
    "画点状图有两个函数可以使用："
   ],
   "outputs": []
  },
  {
   "cell_type": "code",
   "execution_count": null,
   "outputs": [],
   "source": [
    "plt.plot()"
   ],
   "metadata": {
    "collapsed": false,
    "pycharm": {
     "name": "#%%\n"
    }
   }
  },
  {
   "cell_type": "markdown",
   "source": [
    "和"
   ],
   "metadata": {
    "collapsed": false,
    "pycharm": {
     "name": "#%% md\n"
    }
   },
   "outputs": []
  },
  {
   "cell_type": "code",
   "execution_count": null,
   "outputs": [],
   "source": [
    "plt.scatter()"
   ],
   "metadata": {
    "collapsed": false,
    "pycharm": {
     "name": "#%%\n"
    }
   }
  },
  {
   "cell_type": "markdown",
   "id": "52dee7bd-b25a-4fd7-b2b3-100920a056db",
   "metadata": {
    "pycharm": {
     "name": "#%% md\n"
    }
   },
   "source": [
    "### 1. plt.plot()\n",
    "我们先来看看我们熟悉的 `plt.plot()` :\n",
    "不难注意到，在 linestyle 里面有一个选项叫做“什么都不画”，顾名思义就是不画线段，使用只画 marker 的参数就可以画出点状图："
   ]
  },
  {
   "cell_type": "code",
   "execution_count": null,
   "id": "8d8f1409-d12d-4b8e-a71a-4aa1dc74af45",
   "metadata": {
    "pycharm": {
     "is_executing": true,
     "name": "#%%\n"
    }
   },
   "outputs": [],
   "source": [
    "x_d1 = np.linspace(0, 10, 100)\n",
    "plt.plot(x_d1, np.sin(x_d1), 'xg')\n",
    "plt.show()"
   ]
  },
  {
   "cell_type": "markdown",
   "id": "dd1746d4-240f-4831-a006-1f095d056e1b",
   "metadata": {
    "pycharm": {
     "name": "#%% md\n"
    }
   },
   "source": [
    "使用 numpy 的 random 函数，我们可以模拟一个随机分布的点状图："
   ]
  },
  {
   "cell_type": "code",
   "execution_count": null,
   "id": "562ffa12-e3d5-46aa-b8fb-320b930acfcf",
   "metadata": {
    "pycharm": {
     "is_executing": true,
     "name": "#%%\n"
    }
   },
   "outputs": [],
   "source": [
    "rng = np.random.RandomState(0)\n",
    "for marker in ['o', '.', ',', 'x', '+', 'v', '^', '<', '>', 's', 'd']:\n",
    "    plt.plot(rng.rand(5), rng.rand(5), marker,\n",
    "             label='marker=\"{0}\"'.format(marker))\n",
    "plt.legend(numpoints=1)\n",
    "plt.xlim(0, 1.8);"
   ]
  },
  {
   "cell_type": "markdown",
   "id": "e3df4c62-8116-402a-b5ff-de3b1d55474a",
   "metadata": {
    "pycharm": {
     "name": "#%% md\n"
    }
   },
   "source": [
    "### 2. plt.scatter()\n",
    "另一个更专业的函数就是 `plt.scatter()` ："
   ]
  },
  {
   "cell_type": "code",
   "execution_count": null,
   "id": "44a29d4c-ced1-4376-97b5-1150fd60e575",
   "metadata": {
    "pycharm": {
     "is_executing": true,
     "name": "#%%\n"
    }
   },
   "outputs": [],
   "source": [
    "plt.scatter(x_d1, np.sin(x_d1), marker = 'd')\n",
    "plt.show()"
   ]
  },
  {
   "cell_type": "markdown",
   "id": "2e650d35-04c2-4a2a-9682-88d62fc87951",
   "metadata": {
    "pycharm": {
     "name": "#%% md\n"
    }
   },
   "source": [
    "乍一看和 `plt.plot()` 并没有什么不同，但是它更专业的地方就在于它可以绘制每个点的大小："
   ]
  },
  {
   "cell_type": "code",
   "execution_count": null,
   "id": "1ff1db13-8a0e-4651-bad8-485c5e346bfc",
   "metadata": {
    "pycharm": {
     "is_executing": true,
     "name": "#%%\n"
    }
   },
   "outputs": [],
   "source": [
    "rng = np.random.RandomState(0)\n",
    "x = rng.randn(100)\n",
    "y = rng.randn(100)\n",
    "colors = rng.rand(100)\n",
    "sizes = 400 * rng.rand(100)  # 可以试着改变常数去了解 scatter 的 size 范围\n",
    "\n",
    "plt.scatter(x, y, c=colors, s=sizes, alpha=0.3,\n",
    "            cmap='viridis', edgecolors='b')\n",
    "plt.colorbar()  # 显示颜色比例尺"
   ]
  },
  {
   "cell_type": "markdown",
   "id": "2f065b1e-f5f4-4acc-b7f6-23cf4a7fb53a",
   "metadata": {
    "pycharm": {
     "name": "#%% md\n"
    }
   },
   "source": [
    "更多 Colormap 请参考：</br>\n",
    "https://matplotlib.org/stable/tutorials/colors/colormaps.html"
   ]
  },
  {
   "cell_type": "markdown",
   "id": "c425b611-9013-4539-bca2-0780a7159833",
   "metadata": {
    "pycharm": {
     "name": "#%% md\n"
    }
   },
   "source": [
    "## 练习[2]\n",
    "我们现在有一组组数据："
   ]
  },
  {
   "cell_type": "code",
   "execution_count": null,
   "id": "766ba574-5963-42cd-a2d7-8a50c4fecdcf",
   "metadata": {
    "pycharm": {
     "is_executing": true,
     "name": "#%%\n"
    }
   },
   "outputs": [],
   "source": [
    "aX = np.random.normal(loc = 0.5, scale = 1.0, size = 50)\n",
    "aY = np.random.normal(loc = 0.5, scale = 1.0, size = 50)\n",
    "bX = np.random.normal(loc = 0.1, scale = 1.0, size = 50)\n",
    "bY = np.random.normal(loc = 0.1, scale = 1.0, size = 50)\n",
    "data = [[np.hstack((aX, bX))], [np.hstack((aY, bY))]]"
   ]
  },
  {
   "cell_type": "markdown",
   "id": "6c42d9a0-1c98-402f-92d8-7313dde6f980",
   "metadata": {
    "pycharm": {
     "name": "#%% md\n"
    }
   },
   "source": [
    "现在需要把 data 中的 a 和 b 使用 scatter 或者 plot 画在同一张图表中。要求有 colormap ；有标题；a 和 b 的颜色要区分开；大小设定为100。[5]"
   ]
  },
  {
   "cell_type": "code",
   "execution_count": null,
   "id": "589bc814-cf06-4f33-ba4e-d19111517b8d",
   "metadata": {
    "pycharm": {
     "is_executing": true,
     "name": "#%%\n"
    }
   },
   "outputs": [],
   "source": [
    "# 请在此答题"
   ]
  },
  {
   "cell_type": "markdown",
   "id": "0011f265-b1af-4b3e-9a4e-a0e72f001f81",
   "metadata": {
    "pycharm": {
     "name": "#%% md\n"
    }
   },
   "source": [
    "### plt.plot() VS plt.scatter()\n",
    "虽然之前提到 `plt.scatter()` 比 `plt.plot()` 更专业，是因为它比后者展示了更多关于数据的信息，然而在效率层面上后者反而比前者更高效：因为前者需要渲染 marker 的颜色和大小。\n",
    "所以在大量的数据前，使用 `plt.plot()` 会更快得到图表。"
   ]
  },
  {
   "cell_type": "markdown",
   "id": "c6bec4a4-1692-4181-b1f8-311c1dae2457",
   "metadata": {
    "pycharm": {
     "name": "#%% md\n"
    }
   },
   "source": [
    "## 绘制长条图（ Bar chart ）和简单直方图（ Histogram ）\n",
    "\n",
    "在 Data Science 里面，长条图和直方图都是很好用的可视化工具，统计一个数据集内，处在某特定值域（ bin ）内数据的数量。<br><br>\n",
    "\n",
    "### 长条图\n",
    "\n",
    "在小学我们就学会了手绘长条图，在 Matplotlib 里面也是非常简单的一个函数就可以绘制："
   ]
  },
  {
   "cell_type": "code",
   "execution_count": null,
   "id": "f8148cf8-5e42-42d3-b898-4e3e3ccfce40",
   "metadata": {
    "pycharm": {
     "is_executing": true,
     "name": "#%%\n"
    }
   },
   "outputs": [],
   "source": [
    "num_students = (332, 270, 256, 238, 451)\n",
    "cohort = (\"IA\", \"IB\", \"IIA\", \"IIB\", \"Graduate\")\n",
    "x_pos = np.arange(len(cohort))\n",
    "plt.bar(x_pos, num_students, align='center')\n",
    "plt.xlabel(\"Cohort\")\n",
    "plt.ylabel(\"Number of Students\")\n",
    "plt.show()"
   ]
  },
  {
   "cell_type": "markdown",
   "id": "7cef534c-75d5-42f9-8cc7-80ab056fa749",
   "metadata": {
    "pycharm": {
     "name": "#%% md\n"
    }
   },
   "source": [
    "但是这个长条图并没有展示我们想要的效果，我们想要每个 cohort 的名字在每个长条的下方："
   ]
  },
  {
   "cell_type": "code",
   "execution_count": null,
   "id": "026e628d-6b93-45bc-a504-0bb555b3ff0e",
   "metadata": {
    "pycharm": {
     "is_executing": true,
     "name": "#%%\n"
    }
   },
   "outputs": [],
   "source": [
    "plt.bar(x_pos, num_students, align='center')\n",
    "plt.xlabel(\"Cohort\")\n",
    "plt.ylabel(\"Number of Students\")\n",
    "plt.xticks(x_pos, cohort, rotation=30)  # 替换x轴下面的量程为 cohort list 里面的数据\n",
    "plt.show()"
   ]
  },
  {
   "cell_type": "markdown",
   "id": "b65db812-9f9f-468a-af07-cc3b57252e9a",
   "metadata": {
    "pycharm": {
     "name": "#%% md\n"
    }
   },
   "source": [
    "### 直方图 \n",
    "直方图和长条图的区别在于前者更多适用于绘制大量的数据，而后者更方便小量的数据。\n",
    "我们以绘制50000个由高斯正态分布生成的随机数为例："
   ]
  },
  {
   "cell_type": "code",
   "execution_count": null,
   "id": "bb51b47d-fd0e-4759-a6a9-da2869b0a178",
   "metadata": {
    "pycharm": {
     "is_executing": true,
     "name": "#%%\n"
    }
   },
   "outputs": [],
   "source": [
    "# loc=平均数（ mean ）, scale=标准差（ stddev ）, size=样本数量（ num samples ）\n",
    "x = np.random.normal(loc=0.0, scale=1.0, size=50000)\n",
    "n, bins, patches = plt.hist(x, 200, color = 'r', edgecolor = 'b')\n",
    "plt.xlabel(\"Value\")\n",
    "plt.ylabel(\"Frequency\")\n",
    "plt.show()"
   ]
  },
  {
   "cell_type": "markdown",
   "id": "245c145b-ddf6-42f6-a5ea-2c006b8a45a5",
   "metadata": {
    "pycharm": {
     "name": "#%% md\n"
    }
   },
   "source": [
    "从可视度来讲，这张图每个 bin 的边缘非常密集，这时我们可以更改函数的 histstyle 来增加观赏性："
   ]
  },
  {
   "cell_type": "code",
   "execution_count": null,
   "id": "101bed41-b83b-4d05-9ea3-92e2506294ca",
   "metadata": {
    "pycharm": {
     "is_executing": true,
     "name": "#%%\n"
    }
   },
   "outputs": [],
   "source": [
    "n, bins, patches = plt.hist(x, 200, histtype='stepfilled', color='steelblue',\n",
    "         edgecolor='b')\n",
    "plt.xlabel(\"Value\")\n",
    "plt.ylabel(\"Frequency\")\n",
    "plt.show()"
   ]
  },
  {
   "cell_type": "markdown",
   "id": "0522ef28-9ff0-4aee-aa1b-1118a6b468bc",
   "metadata": {
    "pycharm": {
     "name": "#%% md\n"
    }
   },
   "source": [
    "多个直方图在同一画布："
   ]
  },
  {
   "cell_type": "code",
   "execution_count": null,
   "id": "c05f2ac2-f835-4a85-a5b1-89e979b55ab7",
   "metadata": {
    "pycharm": {
     "is_executing": true,
     "name": "#%%\n"
    }
   },
   "outputs": [],
   "source": [
    "x1 = np.random.normal(0, 0.8, 1000)\n",
    "x2 = np.random.normal(-2, 1, 1000)\n",
    "x3 = np.random.normal(3, 2, 1000)\n",
    "kwargs = dict(histtype='stepfilled', alpha=0.3, bins=40)\n",
    "plt.hist(x1, **kwargs)\n",
    "# 参数解引用（ Keyword Arguments ），在 Python 基础预习材料里有详解。\n",
    "plt.hist(x2, **kwargs)\n",
    "plt.hist(x3, **kwargs)\n",
    "plt.show()"
   ]
  },
  {
   "cell_type": "markdown",
   "id": "0d69242e-427b-44d1-b19b-ee451ccae316",
   "metadata": {
    "pycharm": {
     "name": "#%% md\n"
    }
   },
   "source": [
    "## 练习[3]\n",
    "请在一张图表中画出 np.random.RandomState.weibull() 和 np.random.RandomState.standard_gamma() 分别采样10000个的直方图。要求有 histtype ；要有正确使用的 legend ；要有合适的坐标系；要有 alpha 。[7]"
   ]
  },
  {
   "cell_type": "code",
   "execution_count": null,
   "id": "e7cf4ea4-1318-43d3-88a7-cbc100a9e07e",
   "metadata": {
    "pycharm": {
     "is_executing": true,
     "name": "#%%\n"
    }
   },
   "outputs": [],
   "source": [
    "# 请在此答题"
   ]
  },
  {
   "cell_type": "markdown",
   "id": "ae24f3a2-2504-4d8d-b231-d970b8955668",
   "metadata": {
    "pycharm": {
     "name": "#%% md\n"
    }
   },
   "source": [
    "## 饼状图（Pie charts）\n",
    "作为基础的可视化图表，饼转图表示每个数据在总体的占比。以2011年剑桥郡（ Cambridgeshire ）内选区人口数据为例：<br><br>\n",
    "\n",
    "|             District | Population |\n",
    "|---------------------:|-----------:|\n",
    "|       Cambridge City |     123900 |\n",
    "|  East Cambridgeshire |      83800 |\n",
    "|              Fenland |      95300 |\n",
    "|      Huntingdonshire |     169500 |\n",
    "| South Cambridgeshire |     148800 |\n",
    "<br>\n",
    "我们首先把数据输入到一个 tuple 里："
   ]
  },
  {
   "cell_type": "code",
   "execution_count": null,
   "id": "8b5cd41a-3635-4c0b-8f29-647aec243652",
   "metadata": {
    "pycharm": {
     "is_executing": true,
     "name": "#%%\n"
    }
   },
   "outputs": [],
   "source": [
    "district = (\"Cambridge City\", \"East Cambridgeshire\", \"Fenland\", \"Huntingdonshire\",\n",
    "            \"South Cambridgeshire\")\n",
    "population = (123900, 83800, 95300, 169500, 148800)"
   ]
  },
  {
   "cell_type": "code",
   "execution_count": null,
   "id": "8d9fe44d-8e2e-495b-b4f2-5a6574d88e09",
   "metadata": {
    "pycharm": {
     "is_executing": true,
     "name": "#%%\n"
    }
   },
   "outputs": [],
   "source": [
    "colors = ['yellowgreen', 'gold', 'lightskyblue', 'lightcoral', 'red']\n",
    "# 突出第一个数据\n",
    "explode = (0.1, 0, 0, 0, 0)  \n",
    "plt.pie(population, explode=explode, labels=district, colors=colors,\n",
    "        autopct='%1.3f%%', shadow=True, startangle=90)\n",
    "plt.title(\"2011 population distribution in Cambridgeshire\")\n",
    "plt.show()"
   ]
  },
  {
   "cell_type": "markdown",
   "id": "9b83427b-c471-4af9-9a1b-eaf0e39b1636",
   "metadata": {
    "pycharm": {
     "name": "#%% md\n"
    }
   },
   "source": [
    "## 误差条形图（Errorbars）\n",
    "在一些基础的物理实验课堂上，同学们一定接触过绘制误差这一任务。对于统计学来说误差也是非常重要的，它展示设想和现实情况的区别。假设我们测量了50个数据，由于测量器具并不是完全理想的，其具有0.8的误差，我们就可以这样绘制误差图："
   ]
  },
  {
   "cell_type": "code",
   "execution_count": null,
   "id": "668549fe-de66-4c64-a573-d7fa413ba088",
   "metadata": {
    "pycharm": {
     "is_executing": true,
     "name": "#%%\n"
    }
   },
   "outputs": [],
   "source": [
    "x = np.linspace(0, 10, 50)\n",
    "dy = 0.8  # 设置误差为0.8\n",
    "y = np.sin(x) + dy * np.random.randn(50)  # 生成数据\n",
    "\n",
    "plt.errorbar(x, y, yerr=dy, fmt='.k');"
   ]
  },
  {
   "cell_type": "markdown",
   "id": "7f0f38aa-d96b-4fdd-bba5-3ab49d725cc1",
   "metadata": {
    "pycharm": {
     "name": "#%% md\n"
    }
   },
   "source": [
    "上图绘制了数据在Y轴的误差，我们同样可以绘制数据在X轴的误差："
   ]
  },
  {
   "cell_type": "code",
   "execution_count": null,
   "id": "31c64cb4-6227-4faf-9bde-dd1167407809",
   "metadata": {
    "pycharm": {
     "is_executing": true,
     "name": "#%%\n"
    }
   },
   "outputs": [],
   "source": [
    "plt.errorbar(x, y, xerr=0.3, fmt='.k')\n",
    "plt.show()"
   ]
  },
  {
   "cell_type": "markdown",
   "id": "548f97f5-aa52-4f97-b1e1-74ecdf2de103",
   "metadata": {
    "pycharm": {
     "name": "#%% md\n"
    }
   },
   "source": [
    "同样的我们可以更 Stylish ："
   ]
  },
  {
   "cell_type": "code",
   "execution_count": null,
   "id": "78594654-b001-4021-b835-82d721f5adbc",
   "metadata": {
    "pycharm": {
     "is_executing": true,
     "name": "#%%\n"
    }
   },
   "outputs": [],
   "source": [
    "plt.errorbar(x, y, yerr=dy, fmt='-x', color='blue',\n",
    "             ecolor='orange', elinewidth=1, capsize=3)\n",
    "plt.show()"
   ]
  },
  {
   "cell_type": "markdown",
   "id": "42d0cb0c-122c-45b2-8af0-5c72023cb2e3",
   "metadata": {
    "pycharm": {
     "name": "#%% md\n"
    }
   },
   "source": [
    "## 密度图与恒值线图（ Density plots & Contour plots ）\n",
    "现在我们进行一个小小的升维：在前面的图表中，我们一直展现的是两组数据之间的关系（ x 与 y ，M 与 A，etc ），现在我们要用二维的图表展现三组数据之间的关系（2.5维:)），因此我们需要用到密度图或者恒值线图（等高线图）。\n",
    "最经典的恒值线图就是地图上的等高线：<br>\n",
    "![Contour Example](./src/Geo-Contour-Example.jpeg)\n",
    "##### Source:https://www.nationalgeographic.org/activity/make-contour-map/\n",
    "### 密度图\n",
    "要绘制密度，我们需要使用：`plt.hist2d()`\n",
    "顾名思义，这个函数就是一个2维的直方图，颜色的深浅代表数值的大小。我们先用一个多元正态分布（ Multivariate Normal Distribution ）函数创造一组2维数据："
   ]
  },
  {
   "cell_type": "code",
   "execution_count": null,
   "id": "89a7ccbb-ef00-4f7f-8057-055df2f144ff",
   "metadata": {
    "pycharm": {
     "is_executing": true,
     "name": "#%%\n"
    }
   },
   "outputs": [],
   "source": [
    "mean = [0, 0]\n",
    "cov = [[1, 1], [1, 2]]\n",
    "x, y = np.random.multivariate_normal(mean, cov, 10000).T"
   ]
  },
  {
   "cell_type": "markdown",
   "id": "f14c3d71-00cd-44cc-97aa-507f6d2bd720",
   "metadata": {
    "pycharm": {
     "name": "#%% md\n"
    }
   },
   "source": [
    "然后使用 `plt.hist2d` 绘图，在这里，第三维就变成了数据的密度（深浅）："
   ]
  },
  {
   "cell_type": "code",
   "execution_count": null,
   "id": "980f1954-7b0b-4782-b004-f284f1461493",
   "metadata": {
    "pycharm": {
     "is_executing": true,
     "name": "#%%\n"
    }
   },
   "outputs": [],
   "source": [
    "plt.hist2d(x, y, bins=30, cmap='Oranges')\n",
    "cb = plt.colorbar(label=\"Count in Bin\")"
   ]
  },
  {
   "cell_type": "markdown",
   "id": "16c83863-7201-4a39-97ac-4ffe0aef46d4",
   "metadata": {
    "pycharm": {
     "name": "#%% md\n"
    }
   },
   "source": [
    "除次之外，还有另一个函数， `plt.hexbin` ，拥有同样的功能，只不过绘制的是蜂窝状的六边形图案："
   ]
  },
  {
   "cell_type": "code",
   "execution_count": null,
   "id": "ba404b45-81cf-4bc2-b7b6-9a65314607f7",
   "metadata": {
    "pycharm": {
     "is_executing": true,
     "name": "#%%\n"
    }
   },
   "outputs": [],
   "source": [
    "plt.hexbin(x, y, gridsize=30, cmap='Oranges')\n",
    "cb = plt.colorbar(label=\"Count in Bin\")"
   ]
  },
  {
   "cell_type": "markdown",
   "id": "3dc1fc10-d823-41d8-9cd1-2fd9d2fe3792",
   "metadata": {
    "pycharm": {
     "name": "#%% md\n"
    }
   },
   "source": [
    "当我们把 `hist2d` 的 bin 参数调高，并且增加数据量时，会发现我们的数据并不完全符合多元正态分布，这很正常因为我们毕竟是使用的随机函数进行生成："
   ]
  },
  {
   "cell_type": "code",
   "execution_count": null,
   "id": "56abd12e-9dfe-498f-a796-c52804ca7e31",
   "metadata": {
    "pycharm": {
     "is_executing": true,
     "name": "#%%\n"
    }
   },
   "outputs": [],
   "source": [
    "plt.figure(figsize=(10, 8))\n",
    "x, y = np.random.multivariate_normal(mean, cov, 1000000).T\n",
    "plt.hist2d(x, y, bins=100, cmap='Oranges')\n",
    "cb = plt.colorbar(label=\"Count in Bin\")"
   ]
  },
  {
   "cell_type": "markdown",
   "id": "c80dc4d5-e28c-4f75-ab4d-dc9f3febda11",
   "metadata": {
    "pycharm": {
     "name": "#%% md\n"
    }
   },
   "source": [
    "这时候，我们就可以使用一种叫做核密度估计 (Kernal Density Estimation) 的数据平滑化 (Data Smoothing) 方法对数据的密度进行估计。\n",
    "关于这个方法的详解请参考其他文献，在这里我们只需要知道这个方法可以让我们每一个离散的 bin 拥有一个对其边缘的连续估计。\n",
    "\n",
    "首先我们导入所需要的拓展包："
   ]
  },
  {
   "cell_type": "code",
   "execution_count": null,
   "id": "bc2ea176-1741-42a3-a94c-e477a9916cee",
   "metadata": {
    "pycharm": {
     "is_executing": true,
     "name": "#%%\n"
    }
   },
   "outputs": [],
   "source": [
    "from scipy.stats import gaussian_kde"
   ]
  },
  {
   "cell_type": "code",
   "execution_count": null,
   "id": "e29e6d8b-f88e-4574-ab46-9dae49b2678e",
   "metadata": {
    "pycharm": {
     "is_executing": true,
     "name": "#%%\n"
    }
   },
   "outputs": [],
   "source": [
    "data = np.vstack([x, y])\n",
    "kde = gaussian_kde(data)\n",
    "\n",
    "xgrid = np.linspace(-3.5, 3.5, 100)\n",
    "ygrid = np.linspace(-6, 6, 100)\n",
    "Xgrid, Ygrid = np.meshgrid(xgrid, ygrid)\n",
    "Z = kde.evaluate(np.vstack([Xgrid.ravel(), Ygrid.ravel()]))\n",
    "\n",
    "plt.figure(figsize=(10, 8))\n",
    "plt.imshow(Z.reshape(Xgrid.shape),\n",
    "           origin='lower', aspect='auto',\n",
    "           extent=[-3.5, 3.5, -6, 6],\n",
    "           cmap='Oranges')\n",
    "cb = plt.colorbar()\n",
    "cb.set_label(\"Density\")"
   ]
  },
  {
   "cell_type": "markdown",
   "id": "75eddbc8-3e97-4300-a87b-680afb5390d1",
   "metadata": {
    "pycharm": {
     "name": "#%% md\n"
    }
   },
   "source": [
    "可以看到经过估计的图像更加符合多元正态分布，这也是它的作用所在。"
   ]
  },
  {
   "cell_type": "markdown",
   "id": "7ae0a4f3-6091-438e-bafd-21c35d7f746a",
   "metadata": {
    "pycharm": {
     "name": "#%% md\n"
    }
   },
   "source": [
    "## 恒值线图\n",
    "恒值线图的主要目的是在于用2维图像可视化3维函数。<br>\n",
    "![Contour Example](./src/Contour-Example.png)\n",
    "##### Source:https://www.researchgate.net/figure/Surface-plot-and-contour-plot-of-the-combined-effects-of-temperature-pH-and-time-on-the_fig3_317747423\n",
    "</br>我们定义函数 $f(x, y)$ 为：\n",
    "\n",
    "$$\n",
    "f(x, y) = \\cos(x)\\sin(x + y)^2\n",
    "$$\n",
    "\n",
    "再在 $(\\pi, 2\\pi)$ 的区间内生成x和y的数值："
   ]
  },
  {
   "cell_type": "code",
   "execution_count": null,
   "id": "f7ccc60f-74c4-4878-839d-946fcea6e842",
   "metadata": {
    "pycharm": {
     "is_executing": true,
     "name": "#%%\n"
    }
   },
   "outputs": [],
   "source": [
    "def f(x, y):\n",
    "    return np.cos(x)*(np.sin(x+y)**2)\n",
    "N = 300\n",
    "x = np.linspace(np.pi, 2*np.pi, N)\n",
    "y = np.linspace(np.pi, 2*np.pi, N)"
   ]
  },
  {
   "cell_type": "markdown",
   "id": "378f17f2-d46c-4243-b118-4d91d3c69805",
   "metadata": {
    "pycharm": {
     "name": "#%% md\n"
    }
   },
   "source": [
    "然后我们使用 Numpy 去生成一个关于x,y的 grid"
   ]
  },
  {
   "cell_type": "code",
   "execution_count": null,
   "id": "a0aa52cd-de6d-453e-834f-203b42ae0c21",
   "metadata": {
    "pycharm": {
     "is_executing": true,
     "name": "#%%\n"
    }
   },
   "outputs": [],
   "source": [
    "X, Y = np.meshgrid(x, y)\n",
    "Z = f(X, Y)"
   ]
  },
  {
   "cell_type": "markdown",
   "id": "c84ca289-17ec-4b16-b546-0a3e01de24ee",
   "metadata": {
    "pycharm": {
     "name": "#%% md\n"
    }
   },
   "source": [
    "然后使用 `plt.contour` 绘制："
   ]
  },
  {
   "cell_type": "code",
   "execution_count": null,
   "id": "ad802698-e615-4285-b689-a32c09f04473",
   "metadata": {
    "pycharm": {
     "is_executing": true,
     "name": "#%%\n"
    }
   },
   "outputs": [],
   "source": [
    "plt.contour(X, Y, Z, colors=\"black\")\n",
    "plt.show()"
   ]
  },
  {
   "cell_type": "markdown",
   "id": "cff67177-da84-48bb-a885-acf76b346722",
   "metadata": {
    "pycharm": {
     "name": "#%% md\n"
    }
   },
   "source": [
    "恒值线的颜色还可以是符合 Matplotlib.Colormap 的："
   ]
  },
  {
   "cell_type": "code",
   "execution_count": null,
   "id": "cd79b70a-a8b1-48dd-9bdb-8a9a97175c6b",
   "metadata": {
    "pycharm": {
     "is_executing": true,
     "name": "#%%\n"
    }
   },
   "outputs": [],
   "source": [
    "plt.contour(X, Y, Z, cmap = \"copper\")\n",
    "plt.colorbar()\n",
    "plt.show()"
   ]
  },
  {
   "cell_type": "markdown",
   "id": "8213072d-e02c-4c69-9faf-1f8ae8f967be",
   "metadata": {
    "pycharm": {
     "name": "#%% md\n"
    }
   },
   "source": [
    "我们还可以填充恒值线之间的颜色："
   ]
  },
  {
   "cell_type": "code",
   "execution_count": null,
   "id": "a2069457-1414-49c2-8325-709f790cb319",
   "metadata": {
    "pycharm": {
     "is_executing": true,
     "name": "#%%\n"
    }
   },
   "outputs": [],
   "source": [
    "plt.contourf(X, Y, Z, cmap = \"Wistia_r\")\n",
    "plt.colorbar()\n",
    "plt.show()"
   ]
  },
  {
   "cell_type": "markdown",
   "id": "71197ee6-d6a7-478f-8cc4-e4ebf3bd87ec",
   "metadata": {
    "pycharm": {
     "name": "#%% md\n"
    }
   },
   "source": [
    "## 练习[4]\n",
    "请使用练习[3]生成的数据绘制一个 hist2d 图像。再在其右方绘制：\n",
    "$$\n",
    "f(x, y) = \\sin(x) \\cos\\left(\\frac{xy^2}{10}\\right)\n",
    "$$，范围 $(-\\pi, +\\pi)$ 的填色恒值线图。\n",
    "要求合适画布大小；合适坐标系；要有 Colorbar 和相印 label ；要有 Colormap。[10]"
   ]
  },
  {
   "cell_type": "code",
   "execution_count": null,
   "id": "a91213b8-cfce-41ec-911e-15710882e8ed",
   "metadata": {
    "pycharm": {
     "is_executing": true,
     "name": "#%%\n"
    }
   },
   "outputs": [],
   "source": [
    "# 请在此答题"
   ]
  },
  {
   "cell_type": "markdown",
   "id": "66b9e86b-1e48-4ab8-9c09-accd88d29370",
   "metadata": {
    "pycharm": {
     "name": "#%% md\n"
    }
   },
   "source": [
    "## 3维绘图（ Three-dimensional plot )\n",
    "首先导入拓展包。"
   ]
  },
  {
   "cell_type": "code",
   "execution_count": null,
   "id": "399f2b6b-2c32-448f-8eb4-4c880acfc0e5",
   "metadata": {
    "pycharm": {
     "is_executing": true,
     "name": "#%%\n"
    }
   },
   "outputs": [],
   "source": [
    "from mpl_toolkits.mplot3d import axes3d\n",
    "from matplotlib import cm"
   ]
  },
  {
   "cell_type": "markdown",
   "id": "50bfe396-69c2-4894-bcfd-ef620083e97c",
   "metadata": {
    "pycharm": {
     "name": "#%% md\n"
    }
   },
   "source": [
    "因为3维绘图本质上和恒值线图展现的是一个东西，所以我们还是使用恒值线图的例子："
   ]
  },
  {
   "cell_type": "code",
   "execution_count": null,
   "id": "ae436fb2-2212-4672-a3dc-33afb7593511",
   "metadata": {
    "pycharm": {
     "is_executing": true,
     "name": "#%%\n"
    },
    "tags": []
   },
   "outputs": [],
   "source": [
    "fig = plt.figure(figsize = (9, 9))\n",
    "ax = plt.axes(projection='3d')\n",
    "\n",
    "surf = ax.plot_surface(X, Y, Z, rstride=1, cstride=1, cmap='Greens_r',\n",
    "                       linewidth=0, antialiased=False)\n",
    "                                              \n",
    "ax.set_xlabel('$x$')\n",
    "ax.set_ylabel('$y$')\n",
    "ax.set_zlabel('$f(x, y)$')\n",
    "\n",
    "ax.view_init(elev=45)\n",
    "\n",
    "plt.show()"
   ]
  },
  {
   "cell_type": "markdown",
   "id": "605f4b88-3f83-4995-93dd-f725030de438",
   "metadata": {
    "pycharm": {
     "name": "#%% md\n"
    }
   },
   "source": [
    "## 标注\n",
    "为了让图表更具说明性，标注是十分重要的："
   ]
  },
  {
   "cell_type": "code",
   "execution_count": null,
   "id": "042d9d0d-bf80-4cbc-9375-572567b4e6be",
   "metadata": {
    "pycharm": {
     "is_executing": true,
     "name": "#%%\n"
    }
   },
   "outputs": [],
   "source": [
    "plt.figure(figsize = (8, 4))\n",
    "plt.plot(M, A, '-.xr')\n",
    "style = dict(size=15, color='gray', ha = 'left')\n",
    "plt.text(2, 51, \"第一次宣传活动\", fontproperties = font_set, **style, va = 'bottom')\n",
    "plt.text(3, 13, \"疫情\", fontproperties = font_set, **style, va = 'top')\n",
    "plt.text(4, 63, \"明星代言\", fontproperties = font_set, **style, va = 'top')\n",
    "plt.annotate(\"local maximum\", xy=(2, 50), xytext=(1.5, 20),arrowprops=dict(facecolor='black', shrink=0.05))\n",
    "plt.annotate(\"local minimum\", xy=(3, 15), xytext=(2.5, 40), arrowprops=dict(arrowstyle='->', connectionstyle='angle3,angleA=0,angleB=-90'))\n",
    "plt.xlim(0.9, 4.5)\n",
    "plt.ylim(5, 70)\n",
    "plt.title(\"公司A季度1\", fontproperties = font_set)\n",
    "plt.xlabel(\"月份\", fontproperties = font_set)\n",
    "plt.ylabel(\"月销售额\", fontproperties = font_set)\n",
    "plt.show()"
   ]
  },
  {
   "cell_type": "markdown",
   "id": "111fe306-762d-42b5-b3ee-fd25eca4044b",
   "metadata": {
    "pycharm": {
     "name": "#%% md\n"
    }
   },
   "source": [
    "更多箭头类型请参考：https://matplotlib.org/stable/gallery/text_labels_and_annotations/fancyarrow_demo.html"
   ]
  },
  {
   "cell_type": "markdown",
   "id": "81d67da6-00fb-4225-b919-7e9d9db3e3e9",
   "metadata": {
    "pycharm": {
     "name": "#%% md\n"
    }
   },
   "source": [
    "## 提问及评分\n",
    "你还有什么想要提的问题："
   ]
  },
  {
   "cell_type": "markdown",
   "id": "ffa854c2-14e6-43f4-aac0-2857a85d351e",
   "metadata": {
    "pycharm": {
     "name": "#%% md\n"
    }
   },
   "source": [
    "### 练习评分\n",
    "\n",
    "分数：(练习[1] / 15 + 练习[2] / 5 + 练习[3] / 7 + 练习[4] / 10 = 总分数 / 37)"
   ]
  },
  {
   "cell_type": "markdown",
   "id": "d4728dde-fa61-4a10-9451-1b66e494ff21",
   "metadata": {
    "pycharm": {
     "name": "#%% md\n"
    }
   },
   "source": [
    "批改人："
   ]
  },
  {
   "cell_type": "markdown",
   "source": [],
   "metadata": {
    "collapsed": false,
    "pycharm": {
     "name": "#%% md\n"
    }
   }
  }
 ],
 "metadata": {
  "kernelspec": {
   "display_name": "Python 3 (ipykernel)",
   "language": "python",
   "name": "python3"
  },
  "language_info": {
   "codemirror_mode": {
    "name": "ipython",
    "version": 3
   },
   "file_extension": ".py",
   "mimetype": "text/x-python",
   "name": "python",
   "nbconvert_exporter": "python",
   "pygments_lexer": "ipython3",
   "version": "3.10.5"
  }
 },
 "nbformat": 4,
 "nbformat_minor": 5
}